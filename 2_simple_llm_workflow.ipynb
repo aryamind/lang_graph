{
 "cells": [
  {
   "cell_type": "code",
   "execution_count": 6,
   "id": "764ed405",
   "metadata": {},
   "outputs": [],
   "source": [
    "from langgraph.graph import StateGraph, START, END\n",
    "from langchain_google_genai import ChatGoogleGenerativeAI\n",
    "from typing import TypedDict\n",
    "from dotenv import load_dotenv"
   ]
  },
  {
   "cell_type": "code",
   "execution_count": 7,
   "id": "99d7962c",
   "metadata": {},
   "outputs": [
    {
     "data": {
      "text/plain": [
       "True"
      ]
     },
     "execution_count": 7,
     "metadata": {},
     "output_type": "execute_result"
    }
   ],
   "source": [
    "load_dotenv()"
   ]
  },
  {
   "cell_type": "code",
   "execution_count": 8,
   "id": "bcd9e7dc",
   "metadata": {},
   "outputs": [],
   "source": [
    "model = ChatGoogleGenerativeAI(model='gemini-2.5-flash')"
   ]
  },
  {
   "cell_type": "code",
   "execution_count": 9,
   "id": "c9d4373d",
   "metadata": {},
   "outputs": [],
   "source": [
    "# creat state\n",
    "\n",
    "class LLMState(TypedDict):\n",
    "\n",
    "    question: str\n",
    "    answer: str"
   ]
  },
  {
   "cell_type": "code",
   "execution_count": 10,
   "id": "1c28f0be",
   "metadata": {},
   "outputs": [],
   "source": [
    "def llm_qa(state: LLMState) -> LLMState:\n",
    "\n",
    "    # extract the question from the state\n",
    "    question = state['question']\n",
    "\n",
    "    # from a prompt\n",
    "    prompt = f'Answer the following question: {question}'\n",
    "\n",
    "    # ask that question to the LLM\n",
    "    answer = model.invoke(prompt).content\n",
    "\n",
    "    # update the answer in the state\n",
    "    state['answer'] = answer\n",
    "\n",
    "    return state"
   ]
  },
  {
   "cell_type": "code",
   "execution_count": 12,
   "id": "00d606b4",
   "metadata": {},
   "outputs": [],
   "source": [
    "# create our graph\n",
    "graph = StateGraph(LLMState)\n",
    "\n",
    "# add nodes\n",
    "graph.add_node('llm_qa', llm_qa)\n",
    "\n",
    "# add edges\n",
    "graph.add_edge(START,'llm_qa')\n",
    "graph.add_edge('llm_qa', END)\n",
    "\n",
    "# compile the graph\n",
    "workflow = graph.compile()"
   ]
  },
  {
   "cell_type": "code",
   "execution_count": 13,
   "id": "57c433fd",
   "metadata": {},
   "outputs": [
    {
     "name": "stdout",
     "output_type": "stream",
     "text": [
      "{'question': 'How far is moon from the earth?', 'answer': \"The distance between the Earth and the Moon is not constant because the Moon's orbit around Earth is elliptical, not a perfect circle.\\n\\nHere are the key distances:\\n\\n*   **Average distance:** Approximately **384,400 kilometers (238,900 miles)**\\n*   **Perigee (closest point):** Approximately **363,104 kilometers (225,623 miles)**\\n*   **Apogee (farthest point):** Approximately **405,696 kilometers (252,088 miles)**\\n\\nSo, while the average is often cited, the actual distance varies throughout the lunar cycle.\"}\n"
     ]
    }
   ],
   "source": [
    "#execute\n",
    "\n",
    "initial_state = {'question': 'How far is moon from the earth?'}\n",
    "\n",
    "final_state = workflow.invoke(initial_state)\n",
    "\n",
    "print(final_state)"
   ]
  },
  {
   "cell_type": "code",
   "execution_count": 14,
   "id": "d34085b7",
   "metadata": {},
   "outputs": [
    {
     "data": {
      "text/plain": [
       "\"The distance between the Earth and the Moon is not constant, as the Moon orbits the Earth in an elliptical path.\\n\\nHowever, the **average distance** is approximately:\\n\\n*   **384,400 kilometers (km)**\\n*   **238,900 miles**\\n\\nHere's a breakdown of the range:\\n\\n*   **At its closest (perigee):** About **363,104 km (225,623 miles)**\\n*   **At its farthest (apogee):** About **405,696 km (252,088 miles)**\\n\\nTo give you a sense of scale, you could fit about 30 Earths between our planet and the Moon. Also, light takes about 1.28 seconds to travel that average distance.\""
      ]
     },
     "execution_count": 14,
     "metadata": {},
     "output_type": "execute_result"
    }
   ],
   "source": [
    "model.invoke('how far is moon from the earth?').content"
   ]
  },
  {
   "cell_type": "code",
   "execution_count": null,
   "id": "fcb4472b",
   "metadata": {},
   "outputs": [],
   "source": []
  }
 ],
 "metadata": {
  "kernelspec": {
   "display_name": "langgraph",
   "language": "python",
   "name": "python3"
  },
  "language_info": {
   "codemirror_mode": {
    "name": "ipython",
    "version": 3
   },
   "file_extension": ".py",
   "mimetype": "text/x-python",
   "name": "python",
   "nbconvert_exporter": "python",
   "pygments_lexer": "ipython3",
   "version": "3.11.13"
  }
 },
 "nbformat": 4,
 "nbformat_minor": 5
}
